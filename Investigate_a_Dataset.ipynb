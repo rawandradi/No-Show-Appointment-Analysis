{
  "cells": [
    {
      "cell_type": "markdown",
      "metadata": {},
      "source": [
        "## Project: Investigate a Dataset - [Dataset-No_show_appointments]"
      ]
    },
    {
      "cell_type": "markdown",
      "metadata": {},
      "source": [
        "## Table of Contents\n",
        "<ul>\n",
        "<li><a href=\"#intro\">Introduction</a></li>\n",
        "<li><a href=\"#wrangling\">Data Wrangling</a></li>\n",
        "<li><a href=\"#eda\">Exploratory Data Analysis</a></li>\n",
        "<li><a href=\"#conclusions\">Conclusions</a></li>\n",
        "</ul>"
      ]
    },
    {
      "cell_type": "markdown",
      "metadata": {},
      "source": [
        "<a id='intro'></a>\n",
        "## Introduction"
      ]
    },
    {
      "cell_type": "markdown",
      "metadata": {},
      "source": [
        "The dataset chosen for this analysis is the **No-show Appointments dataset**. It contains information on **100,000 medical appointments** in Brazil, with a focus on whether patients attended their scheduled appointments or not. The goal of this analysis is to identify factors that influence patient attendance.  \n",
        "\n",
        "### Column Descriptions  \n",
        "\n",
        "| Column Name       | Description |\n",
        "|-------------------|-------------|\n",
        "| **PatientId**     | Unique identifier for each patient |\n",
        "| **AppointmentID** | Unique identifier for each appointment |\n",
        "| **Gender**        | Patient's gender (`M` for male, `F` for female) |\n",
        "| **ScheduledDay**  | The date and time when the appointment was scheduled |\n",
        "| **AppointmentDay**| The date of the actual appointment |\n",
        "| **Age**          | Age of the patient |\n",
        "| **Neighbourhood**| The location of the hospital where the appointment was scheduled |\n",
        "| **Scholarship**  | Indicates if the patient is enrolled in the Brazilian welfare program `Bolsa Família` (1 = Yes, 0 = No) |\n",
        "| **Hipertension** | Indicates if the patient has hypertension (1 = Yes, 0 = No) |\n",
        "| **Diabetes**     | Indicates if the patient has diabetes (1 = Yes, 0 = No) |\n",
        "| **Alcoholism**   | Indicates if the patient has a history of alcoholism (1 = Yes, 0 = No) |\n",
        "| **Handcap**      | Indicates if the patient has a disability (values range from 0 to 4, but mostly 0 or 1) |\n",
        "| **SMS_received** | Whether the patient received an SMS reminder (1 = Yes, 0 = No) |\n",
        "| **No-show**      | Indicates whether the patient **missed** their appointment (`No` = attended, `Yes` = missed) |\n",
        "\n",
        " **Note** One important detail in this dataset is that the **No-show** column is labeled as **\"No\" if the patient attended** and **\"Yes\" if they missed** the appointment.\n"
      ]
    },
    {
      "cell_type": "markdown",
      "metadata": {},
      "source": [
        "### Questions"
      ]
    },
    {
      "cell_type": "markdown",
      "metadata": {},
      "source": [
        "\n",
        "   - Does receiving an SMS seem to reduce or increase the no-show rate?\n",
        "\n",
        "   - Are patients with hypertension, diabetes, or alcoholism more or less likely to attend their appointments?\n",
        "\n",
        "   - Are there certain age groups that are more likely to miss appointments? If so, which ones\n"
      ]
    },
    {
      "cell_type": "code",
      "execution_count": 2,
      "metadata": {},
      "outputs": [],
      "source": [
        "import pandas as pd \n",
        "import numpy as np"
      ]
    },
    {
      "cell_type": "markdown",
      "metadata": {},
      "source": [
        "<a id='wrangling'></a>\n",
        "## Data Wrangling"
      ]
    },
    {
      "cell_type": "markdown",
      "metadata": {},
      "source": [
        "#### load and clean Data"
      ]
    },
    {
      "cell_type": "code",
      "execution_count": 3,
      "metadata": {},
      "outputs": [
        {
          "data": {
            "text/html": [
              "<div>\n",
              "<style scoped>\n",
              "    .dataframe tbody tr th:only-of-type {\n",
              "        vertical-align: middle;\n",
              "    }\n",
              "\n",
              "    .dataframe tbody tr th {\n",
              "        vertical-align: top;\n",
              "    }\n",
              "\n",
              "    .dataframe thead th {\n",
              "        text-align: right;\n",
              "    }\n",
              "</style>\n",
              "<table border=\"1\" class=\"dataframe\">\n",
              "  <thead>\n",
              "    <tr style=\"text-align: right;\">\n",
              "      <th></th>\n",
              "      <th>PatientId</th>\n",
              "      <th>AppointmentID</th>\n",
              "      <th>Gender</th>\n",
              "      <th>ScheduledDay</th>\n",
              "      <th>AppointmentDay</th>\n",
              "      <th>Age</th>\n",
              "      <th>Neighbourhood</th>\n",
              "      <th>Scholarship</th>\n",
              "      <th>Hipertension</th>\n",
              "      <th>Diabetes</th>\n",
              "      <th>Alcoholism</th>\n",
              "      <th>Handcap</th>\n",
              "      <th>SMS_received</th>\n",
              "      <th>No-show</th>\n",
              "    </tr>\n",
              "  </thead>\n",
              "  <tbody>\n",
              "    <tr>\n",
              "      <th>0</th>\n",
              "      <td>2.987250e+13</td>\n",
              "      <td>5642903</td>\n",
              "      <td>F</td>\n",
              "      <td>2016-04-29T18:38:08Z</td>\n",
              "      <td>2016-04-29T00:00:00Z</td>\n",
              "      <td>62</td>\n",
              "      <td>JARDIM DA PENHA</td>\n",
              "      <td>0</td>\n",
              "      <td>1</td>\n",
              "      <td>0</td>\n",
              "      <td>0</td>\n",
              "      <td>0</td>\n",
              "      <td>0</td>\n",
              "      <td>No</td>\n",
              "    </tr>\n",
              "    <tr>\n",
              "      <th>1</th>\n",
              "      <td>5.589978e+14</td>\n",
              "      <td>5642503</td>\n",
              "      <td>M</td>\n",
              "      <td>2016-04-29T16:08:27Z</td>\n",
              "      <td>2016-04-29T00:00:00Z</td>\n",
              "      <td>56</td>\n",
              "      <td>JARDIM DA PENHA</td>\n",
              "      <td>0</td>\n",
              "      <td>0</td>\n",
              "      <td>0</td>\n",
              "      <td>0</td>\n",
              "      <td>0</td>\n",
              "      <td>0</td>\n",
              "      <td>No</td>\n",
              "    </tr>\n",
              "    <tr>\n",
              "      <th>2</th>\n",
              "      <td>4.262962e+12</td>\n",
              "      <td>5642549</td>\n",
              "      <td>F</td>\n",
              "      <td>2016-04-29T16:19:04Z</td>\n",
              "      <td>2016-04-29T00:00:00Z</td>\n",
              "      <td>62</td>\n",
              "      <td>MATA DA PRAIA</td>\n",
              "      <td>0</td>\n",
              "      <td>0</td>\n",
              "      <td>0</td>\n",
              "      <td>0</td>\n",
              "      <td>0</td>\n",
              "      <td>0</td>\n",
              "      <td>No</td>\n",
              "    </tr>\n",
              "    <tr>\n",
              "      <th>3</th>\n",
              "      <td>8.679512e+11</td>\n",
              "      <td>5642828</td>\n",
              "      <td>F</td>\n",
              "      <td>2016-04-29T17:29:31Z</td>\n",
              "      <td>2016-04-29T00:00:00Z</td>\n",
              "      <td>8</td>\n",
              "      <td>PONTAL DE CAMBURI</td>\n",
              "      <td>0</td>\n",
              "      <td>0</td>\n",
              "      <td>0</td>\n",
              "      <td>0</td>\n",
              "      <td>0</td>\n",
              "      <td>0</td>\n",
              "      <td>No</td>\n",
              "    </tr>\n",
              "    <tr>\n",
              "      <th>4</th>\n",
              "      <td>8.841186e+12</td>\n",
              "      <td>5642494</td>\n",
              "      <td>F</td>\n",
              "      <td>2016-04-29T16:07:23Z</td>\n",
              "      <td>2016-04-29T00:00:00Z</td>\n",
              "      <td>56</td>\n",
              "      <td>JARDIM DA PENHA</td>\n",
              "      <td>0</td>\n",
              "      <td>1</td>\n",
              "      <td>1</td>\n",
              "      <td>0</td>\n",
              "      <td>0</td>\n",
              "      <td>0</td>\n",
              "      <td>No</td>\n",
              "    </tr>\n",
              "  </tbody>\n",
              "</table>\n",
              "</div>"
            ],
            "text/plain": [
              "      PatientId  AppointmentID Gender          ScheduledDay  \\\n",
              "0  2.987250e+13        5642903      F  2016-04-29T18:38:08Z   \n",
              "1  5.589978e+14        5642503      M  2016-04-29T16:08:27Z   \n",
              "2  4.262962e+12        5642549      F  2016-04-29T16:19:04Z   \n",
              "3  8.679512e+11        5642828      F  2016-04-29T17:29:31Z   \n",
              "4  8.841186e+12        5642494      F  2016-04-29T16:07:23Z   \n",
              "\n",
              "         AppointmentDay  Age      Neighbourhood  Scholarship  Hipertension  \\\n",
              "0  2016-04-29T00:00:00Z   62    JARDIM DA PENHA            0             1   \n",
              "1  2016-04-29T00:00:00Z   56    JARDIM DA PENHA            0             0   \n",
              "2  2016-04-29T00:00:00Z   62      MATA DA PRAIA            0             0   \n",
              "3  2016-04-29T00:00:00Z    8  PONTAL DE CAMBURI            0             0   \n",
              "4  2016-04-29T00:00:00Z   56    JARDIM DA PENHA            0             1   \n",
              "\n",
              "   Diabetes  Alcoholism  Handcap  SMS_received No-show  \n",
              "0         0           0        0             0      No  \n",
              "1         0           0        0             0      No  \n",
              "2         0           0        0             0      No  \n",
              "3         0           0        0             0      No  \n",
              "4         1           0        0             0      No  "
            ]
          },
          "execution_count": 3,
          "metadata": {},
          "output_type": "execute_result"
        }
      ],
      "source": [
        "df_NoShow = pd.read_csv(\"noshowappointments-kagglev2-may-2016.csv\")\n",
        "df_NoShow.head()"
      ]
    },
    {
      "cell_type": "code",
      "execution_count": 4,
      "metadata": {},
      "outputs": [
        {
          "data": {
            "text/plain": [
              "(110527, 14)"
            ]
          },
          "execution_count": 4,
          "metadata": {},
          "output_type": "execute_result"
        }
      ],
      "source": [
        "df_NoShow.shape"
      ]
    },
    {
      "cell_type": "markdown",
      "metadata": {},
      "source": [
        "#### Removing Null rows if any"
      ]
    },
    {
      "cell_type": "code",
      "execution_count": 5,
      "metadata": {
        "trusted": true
      },
      "outputs": [
        {
          "data": {
            "text/plain": [
              "PatientId         0\n",
              "AppointmentID     0\n",
              "Gender            0\n",
              "ScheduledDay      0\n",
              "AppointmentDay    0\n",
              "Age               0\n",
              "Neighbourhood     0\n",
              "Scholarship       0\n",
              "Hipertension      0\n",
              "Diabetes          0\n",
              "Alcoholism        0\n",
              "Handcap           0\n",
              "SMS_received      0\n",
              "No-show           0\n",
              "dtype: int64"
            ]
          },
          "execution_count": 5,
          "metadata": {},
          "output_type": "execute_result"
        }
      ],
      "source": [
        "df_NoShow.isnull().sum()"
      ]
    },
    {
      "cell_type": "markdown",
      "metadata": {},
      "source": [
        "#### remove duplicate rows if any"
      ]
    },
    {
      "cell_type": "code",
      "execution_count": 6,
      "metadata": {
        "trusted": true
      },
      "outputs": [
        {
          "data": {
            "text/plain": [
              "0"
            ]
          },
          "execution_count": 6,
          "metadata": {},
          "output_type": "execute_result"
        }
      ],
      "source": [
        "df_NoShow.duplicated().sum()"
      ]
    },
    {
      "cell_type": "code",
      "execution_count": 7,
      "metadata": {
        "trusted": true
      },
      "outputs": [
        {
          "data": {
            "text/html": [
              "<div>\n",
              "<style scoped>\n",
              "    .dataframe tbody tr th:only-of-type {\n",
              "        vertical-align: middle;\n",
              "    }\n",
              "\n",
              "    .dataframe tbody tr th {\n",
              "        vertical-align: top;\n",
              "    }\n",
              "\n",
              "    .dataframe thead th {\n",
              "        text-align: right;\n",
              "    }\n",
              "</style>\n",
              "<table border=\"1\" class=\"dataframe\">\n",
              "  <thead>\n",
              "    <tr style=\"text-align: right;\">\n",
              "      <th></th>\n",
              "      <th>PatientId</th>\n",
              "      <th>AppointmentID</th>\n",
              "      <th>Age</th>\n",
              "      <th>Scholarship</th>\n",
              "      <th>Hipertension</th>\n",
              "      <th>Diabetes</th>\n",
              "      <th>Alcoholism</th>\n",
              "      <th>Handcap</th>\n",
              "      <th>SMS_received</th>\n",
              "    </tr>\n",
              "  </thead>\n",
              "  <tbody>\n",
              "    <tr>\n",
              "      <th>count</th>\n",
              "      <td>1.105270e+05</td>\n",
              "      <td>1.105270e+05</td>\n",
              "      <td>110527.000000</td>\n",
              "      <td>110527.000000</td>\n",
              "      <td>110527.000000</td>\n",
              "      <td>110527.000000</td>\n",
              "      <td>110527.000000</td>\n",
              "      <td>110527.000000</td>\n",
              "      <td>110527.000000</td>\n",
              "    </tr>\n",
              "    <tr>\n",
              "      <th>mean</th>\n",
              "      <td>1.474963e+14</td>\n",
              "      <td>5.675305e+06</td>\n",
              "      <td>37.088874</td>\n",
              "      <td>0.098266</td>\n",
              "      <td>0.197246</td>\n",
              "      <td>0.071865</td>\n",
              "      <td>0.030400</td>\n",
              "      <td>0.022248</td>\n",
              "      <td>0.321026</td>\n",
              "    </tr>\n",
              "    <tr>\n",
              "      <th>std</th>\n",
              "      <td>2.560949e+14</td>\n",
              "      <td>7.129575e+04</td>\n",
              "      <td>23.110205</td>\n",
              "      <td>0.297675</td>\n",
              "      <td>0.397921</td>\n",
              "      <td>0.258265</td>\n",
              "      <td>0.171686</td>\n",
              "      <td>0.161543</td>\n",
              "      <td>0.466873</td>\n",
              "    </tr>\n",
              "    <tr>\n",
              "      <th>min</th>\n",
              "      <td>3.921784e+04</td>\n",
              "      <td>5.030230e+06</td>\n",
              "      <td>-1.000000</td>\n",
              "      <td>0.000000</td>\n",
              "      <td>0.000000</td>\n",
              "      <td>0.000000</td>\n",
              "      <td>0.000000</td>\n",
              "      <td>0.000000</td>\n",
              "      <td>0.000000</td>\n",
              "    </tr>\n",
              "    <tr>\n",
              "      <th>25%</th>\n",
              "      <td>4.172614e+12</td>\n",
              "      <td>5.640286e+06</td>\n",
              "      <td>18.000000</td>\n",
              "      <td>0.000000</td>\n",
              "      <td>0.000000</td>\n",
              "      <td>0.000000</td>\n",
              "      <td>0.000000</td>\n",
              "      <td>0.000000</td>\n",
              "      <td>0.000000</td>\n",
              "    </tr>\n",
              "    <tr>\n",
              "      <th>50%</th>\n",
              "      <td>3.173184e+13</td>\n",
              "      <td>5.680573e+06</td>\n",
              "      <td>37.000000</td>\n",
              "      <td>0.000000</td>\n",
              "      <td>0.000000</td>\n",
              "      <td>0.000000</td>\n",
              "      <td>0.000000</td>\n",
              "      <td>0.000000</td>\n",
              "      <td>0.000000</td>\n",
              "    </tr>\n",
              "    <tr>\n",
              "      <th>75%</th>\n",
              "      <td>9.439172e+13</td>\n",
              "      <td>5.725524e+06</td>\n",
              "      <td>55.000000</td>\n",
              "      <td>0.000000</td>\n",
              "      <td>0.000000</td>\n",
              "      <td>0.000000</td>\n",
              "      <td>0.000000</td>\n",
              "      <td>0.000000</td>\n",
              "      <td>1.000000</td>\n",
              "    </tr>\n",
              "    <tr>\n",
              "      <th>max</th>\n",
              "      <td>9.999816e+14</td>\n",
              "      <td>5.790484e+06</td>\n",
              "      <td>115.000000</td>\n",
              "      <td>1.000000</td>\n",
              "      <td>1.000000</td>\n",
              "      <td>1.000000</td>\n",
              "      <td>1.000000</td>\n",
              "      <td>4.000000</td>\n",
              "      <td>1.000000</td>\n",
              "    </tr>\n",
              "  </tbody>\n",
              "</table>\n",
              "</div>"
            ],
            "text/plain": [
              "          PatientId  AppointmentID            Age    Scholarship  \\\n",
              "count  1.105270e+05   1.105270e+05  110527.000000  110527.000000   \n",
              "mean   1.474963e+14   5.675305e+06      37.088874       0.098266   \n",
              "std    2.560949e+14   7.129575e+04      23.110205       0.297675   \n",
              "min    3.921784e+04   5.030230e+06      -1.000000       0.000000   \n",
              "25%    4.172614e+12   5.640286e+06      18.000000       0.000000   \n",
              "50%    3.173184e+13   5.680573e+06      37.000000       0.000000   \n",
              "75%    9.439172e+13   5.725524e+06      55.000000       0.000000   \n",
              "max    9.999816e+14   5.790484e+06     115.000000       1.000000   \n",
              "\n",
              "        Hipertension       Diabetes     Alcoholism        Handcap  \\\n",
              "count  110527.000000  110527.000000  110527.000000  110527.000000   \n",
              "mean        0.197246       0.071865       0.030400       0.022248   \n",
              "std         0.397921       0.258265       0.171686       0.161543   \n",
              "min         0.000000       0.000000       0.000000       0.000000   \n",
              "25%         0.000000       0.000000       0.000000       0.000000   \n",
              "50%         0.000000       0.000000       0.000000       0.000000   \n",
              "75%         0.000000       0.000000       0.000000       0.000000   \n",
              "max         1.000000       1.000000       1.000000       4.000000   \n",
              "\n",
              "        SMS_received  \n",
              "count  110527.000000  \n",
              "mean        0.321026  \n",
              "std         0.466873  \n",
              "min         0.000000  \n",
              "25%         0.000000  \n",
              "50%         0.000000  \n",
              "75%         1.000000  \n",
              "max         1.000000  "
            ]
          },
          "execution_count": 7,
          "metadata": {},
          "output_type": "execute_result"
        }
      ],
      "source": [
        "df_NoShow.describe()"
      ]
    },
    {
      "cell_type": "code",
      "execution_count": 8,
      "metadata": {
        "trusted": true
      },
      "outputs": [
        {
          "name": "stdout",
          "output_type": "stream",
          "text": [
            "<class 'pandas.core.frame.DataFrame'>\n",
            "RangeIndex: 110527 entries, 0 to 110526\n",
            "Data columns (total 14 columns):\n",
            " #   Column          Non-Null Count   Dtype  \n",
            "---  ------          --------------   -----  \n",
            " 0   PatientId       110527 non-null  float64\n",
            " 1   AppointmentID   110527 non-null  int64  \n",
            " 2   Gender          110527 non-null  object \n",
            " 3   ScheduledDay    110527 non-null  object \n",
            " 4   AppointmentDay  110527 non-null  object \n",
            " 5   Age             110527 non-null  int64  \n",
            " 6   Neighbourhood   110527 non-null  object \n",
            " 7   Scholarship     110527 non-null  int64  \n",
            " 8   Hipertension    110527 non-null  int64  \n",
            " 9   Diabetes        110527 non-null  int64  \n",
            " 10  Alcoholism      110527 non-null  int64  \n",
            " 11  Handcap         110527 non-null  int64  \n",
            " 12  SMS_received    110527 non-null  int64  \n",
            " 13  No-show         110527 non-null  object \n",
            "dtypes: float64(1), int64(8), object(5)\n",
            "memory usage: 11.8+ MB\n"
          ]
        }
      ],
      "source": [
        "df_NoShow.info()"
      ]
    },
    {
      "cell_type": "code",
      "execution_count": 358,
      "metadata": {},
      "outputs": [
        {
          "data": {
            "text/plain": [
              "PatientId          62299\n",
              "AppointmentID     110527\n",
              "Gender                 2\n",
              "ScheduledDay      103549\n",
              "AppointmentDay        27\n",
              "Age                  104\n",
              "Neighbourhood         81\n",
              "Scholarship            2\n",
              "Hipertension           2\n",
              "Diabetes               2\n",
              "Alcoholism             2\n",
              "Handcap                5\n",
              "SMS_received           2\n",
              "No-show                2\n",
              "dtype: int64"
            ]
          },
          "execution_count": 358,
          "metadata": {},
          "output_type": "execute_result"
        }
      ],
      "source": [
        "df_NoShow.nunique()"
      ]
    },
    {
      "cell_type": "markdown",
      "metadata": {},
      "source": [
        "#### change date datatype from object to datetime"
      ]
    },
    {
      "cell_type": "code",
      "execution_count": null,
      "metadata": {
        "trusted": true
      },
      "outputs": [],
      "source": [
        "df_NoShow['ScheduledDay'] = pd.to_datetime(df_NoShow['ScheduledDay'])\n",
        "df_NoShow['AppointmentDay'] = pd.to_datetime(df_NoShow['AppointmentDay'])\n",
        "df_NoShow['Neighbourhood'] = df_NoShow['Neighbourhood'].astype('category')\n",
        "#convert data for No-show into numbers to more esier analysis\n",
        "df_NoShow['No-show'] = df_NoShow['No-show'].str.strip().str.lower()\n",
        "df_NoShow['No-show'] = df_NoShow['No-show'].map({'yes': 1, 'no': 0})\n",
        "df_NoShow.info()"
      ]
    },
    {
      "cell_type": "markdown",
      "metadata": {},
      "source": [
        "<a id='eda'></a>\n",
        "## Exploratory Data Analysis"
      ]
    },
    {
      "cell_type": "code",
      "execution_count": 360,
      "metadata": {},
      "outputs": [
        {
          "data": {
            "image/png": "[encoded data removed]",
            "text/plain": [
              "<Figure size 1000x1000 with 12 Axes>"
            ]
          },
          "metadata": {},
          "output_type": "display_data"
        }
      ],
      "source": [
        "df_NoShow.hist(figsize=(10,10));"
      ]
    },
    {
      "cell_type": "markdown",
      "metadata": {},
      "source": [
        "This histogram grid provides an overview of various patient attributes and their distributions:\n",
        "\n",
        "- Age: Most patients are between 0 and 60 years old, with a few outliers above 100.\n",
        "- Scholarship: Very few patients are enrolled in a government assistance program.\n",
        "- Hypertension & Diabetes: A smaller portion of patients have these conditions.\n",
        "- Alcoholism & Handicap: Both have low representation in the dataset.\n",
        "- SMS Received: Most patients did not receive a reminder.\n",
        "- No-Show: The majority of patients attended their appointments, but a portion still missed them.\n",
        "\n",
        "\n",
        "\n",
        "\n",
        "\n",
        "\n",
        "\n",
        "\n"
      ]
    },
    {
      "cell_type": "markdown",
      "metadata": {},
      "source": [
        "#### Question 1: Does receiving an SMS seem to reduce or increase the no-show rate?"
      ]
    },
    {
      "cell_type": "code",
      "execution_count": 361,
      "metadata": {},
      "outputs": [
        {
          "data": {
            "text/plain": [
              "No-show  SMS_received\n",
              "0        0               62510\n",
              "         1               25698\n",
              "1        0               12535\n",
              "         1                9784\n",
              "Name: SMS_received, dtype: int64"
            ]
          },
          "execution_count": 361,
          "metadata": {},
          "output_type": "execute_result"
        }
      ],
      "source": [
        "df_counts = df_NoShow.groupby(['No-show', 'SMS_received'])['SMS_received'].count()\n",
        "df_counts"
      ]
    },
    {
      "cell_type": "code",
      "execution_count": 362,
      "metadata": {},
      "outputs": [
        {
          "data": {
            "text/plain": [
              "No-show  SMS_received\n",
              "0        0               56.556317\n",
              "         1               23.250427\n",
              "1        0               11.341120\n",
              "         1                8.852136\n",
              "Name: SMS_received, dtype: float64"
            ]
          },
          "execution_count": 362,
          "metadata": {},
          "output_type": "execute_result"
        }
      ],
      "source": [
        "#calculate the percentage of the effect of the SMS recived on No-show\n",
        "df_percentage = (df_counts / df_counts.sum() )* 100\n",
        "df_percentage"
      ]
    },
    {
      "cell_type": "code",
      "execution_count": 363,
      "metadata": {},
      "outputs": [
        {
          "data": {
            "image/png": "[encoded data removed]",
            "text/plain": [
              "<Figure size 1200x600 with 1 Axes>"
            ]
          },
          "metadata": {},
          "output_type": "display_data"
        }
      ],
      "source": [
        "labels = ['Show - SMS Not Received', 'Show - SMS Received', 'No-Show - SMS Not Received', 'No-Show -SMS Received']\n",
        "df_counts.plot(kind=\"pie\",autopct='%1.1f%%',figsize=(12, 6), labels=labels);"
      ]
    },
    {
      "cell_type": "markdown",
      "metadata": {},
      "source": [
        "This pie chart gives us a clear picture of how SMS reminders affect patient attendance. The biggest group (56.6%) consists of patients who didn’t get an SMS but still showed up for their appointment. Meanwhile, 23.3% received an SMS and attended, showing that reminders do have some impact. On the other hand, 11.3% didn’t receive an SMS and missed their appointment, and only 8.9% of those who got an SMS still didn’t show up. This suggests that while SMS reminders can help improve attendance, many patients are still responsible about showing up even without them."
      ]
    },
    {
      "cell_type": "code",
      "execution_count": 398,
      "metadata": {},
      "outputs": [
        {
          "data": {
            "text/plain": [
              "No-show\n",
              "0    62510\n",
              "1    12535\n",
              "Name: count, dtype: int64"
            ]
          },
          "execution_count": 398,
          "metadata": {},
          "output_type": "execute_result"
        }
      ],
      "source": [
        "df_NoShow.query(\"SMS_received == 0\")[\"No-show\"].value_counts()"
      ]
    },
    {
      "cell_type": "markdown",
      "metadata": {},
      "source": [
        "#### Question 2: Are patients with hypertension, diabetes, or alcoholism more or less likely to attend their appointments?"
      ]
    },
    {
      "cell_type": "code",
      "execution_count": 364,
      "metadata": {},
      "outputs": [
        {
          "data": {
            "text/html": [
              "<div>\n",
              "<style scoped>\n",
              "    .dataframe tbody tr th:only-of-type {\n",
              "        vertical-align: middle;\n",
              "    }\n",
              "\n",
              "    .dataframe tbody tr th {\n",
              "        vertical-align: top;\n",
              "    }\n",
              "\n",
              "    .dataframe thead th {\n",
              "        text-align: right;\n",
              "    }\n",
              "</style>\n",
              "<table border=\"1\" class=\"dataframe\">\n",
              "  <thead>\n",
              "    <tr style=\"text-align: right;\">\n",
              "      <th></th>\n",
              "      <th>PatientId</th>\n",
              "      <th>AppointmentID</th>\n",
              "      <th>Gender</th>\n",
              "      <th>ScheduledDay</th>\n",
              "      <th>AppointmentDay</th>\n",
              "      <th>Age</th>\n",
              "      <th>Neighbourhood</th>\n",
              "      <th>Scholarship</th>\n",
              "      <th>Hipertension</th>\n",
              "      <th>Diabetes</th>\n",
              "      <th>Alcoholism</th>\n",
              "      <th>Handcap</th>\n",
              "      <th>SMS_received</th>\n",
              "      <th>No-show</th>\n",
              "    </tr>\n",
              "  </thead>\n",
              "  <tbody>\n",
              "    <tr>\n",
              "      <th>0</th>\n",
              "      <td>2.987250e+13</td>\n",
              "      <td>5642903</td>\n",
              "      <td>F</td>\n",
              "      <td>2016-04-29 18:38:08+00:00</td>\n",
              "      <td>2016-04-29 00:00:00+00:00</td>\n",
              "      <td>62</td>\n",
              "      <td>JARDIM DA PENHA</td>\n",
              "      <td>0</td>\n",
              "      <td>1</td>\n",
              "      <td>0</td>\n",
              "      <td>0</td>\n",
              "      <td>0</td>\n",
              "      <td>0</td>\n",
              "      <td>0</td>\n",
              "    </tr>\n",
              "    <tr>\n",
              "      <th>1</th>\n",
              "      <td>5.589978e+14</td>\n",
              "      <td>5642503</td>\n",
              "      <td>M</td>\n",
              "      <td>2016-04-29 16:08:27+00:00</td>\n",
              "      <td>2016-04-29 00:00:00+00:00</td>\n",
              "      <td>56</td>\n",
              "      <td>JARDIM DA PENHA</td>\n",
              "      <td>0</td>\n",
              "      <td>0</td>\n",
              "      <td>0</td>\n",
              "      <td>0</td>\n",
              "      <td>0</td>\n",
              "      <td>0</td>\n",
              "      <td>0</td>\n",
              "    </tr>\n",
              "    <tr>\n",
              "      <th>2</th>\n",
              "      <td>4.262962e+12</td>\n",
              "      <td>5642549</td>\n",
              "      <td>F</td>\n",
              "      <td>2016-04-29 16:19:04+00:00</td>\n",
              "      <td>2016-04-29 00:00:00+00:00</td>\n",
              "      <td>62</td>\n",
              "      <td>MATA DA PRAIA</td>\n",
              "      <td>0</td>\n",
              "      <td>0</td>\n",
              "      <td>0</td>\n",
              "      <td>0</td>\n",
              "      <td>0</td>\n",
              "      <td>0</td>\n",
              "      <td>0</td>\n",
              "    </tr>\n",
              "  </tbody>\n",
              "</table>\n",
              "</div>"
            ],
            "text/plain": [
              "      PatientId  AppointmentID Gender              ScheduledDay  \\\n",
              "0  2.987250e+13        5642903      F 2016-04-29 18:38:08+00:00   \n",
              "1  5.589978e+14        5642503      M 2016-04-29 16:08:27+00:00   \n",
              "2  4.262962e+12        5642549      F 2016-04-29 16:19:04+00:00   \n",
              "\n",
              "             AppointmentDay  Age    Neighbourhood  Scholarship  Hipertension  \\\n",
              "0 2016-04-29 00:00:00+00:00   62  JARDIM DA PENHA            0             1   \n",
              "1 2016-04-29 00:00:00+00:00   56  JARDIM DA PENHA            0             0   \n",
              "2 2016-04-29 00:00:00+00:00   62    MATA DA PRAIA            0             0   \n",
              "\n",
              "   Diabetes  Alcoholism  Handcap  SMS_received  No-show  \n",
              "0         0           0        0             0        0  \n",
              "1         0           0        0             0        0  \n",
              "2         0           0        0             0        0  "
            ]
          },
          "execution_count": 364,
          "metadata": {},
          "output_type": "execute_result"
        }
      ],
      "source": [
        "df_NoShow.head(3)"
      ]
    },
    {
      "cell_type": "markdown",
      "metadata": {},
      "source": []
    },
    {
      "cell_type": "code",
      "execution_count": 9,
      "metadata": {
        "trusted": true
      },
      "outputs": [
        {
          "data": {
            "text/plain": [
              "No-show\n",
              "No     0.235058\n",
              "Yes    0.200771\n",
              "Name: has_condition, dtype: float64"
            ]
          },
          "execution_count": 9,
          "metadata": {},
          "output_type": "execute_result"
        }
      ],
      "source": [
        "#creat a new col to study all conitions in once\n",
        "df_NoShow['has_condition'] = df_NoShow.apply(\n",
        "    lambda x: 1 if (x['Hipertension'] == 1 or x['Diabetes'] == 1 or x['Alcoholism'] == 1) else 0, axis=1)\n",
        "df_NoShow.groupby(\"No-show\")[\"has_condition\"].mean()\n"
      ]
    },
    {
      "cell_type": "code",
      "execution_count": 366,
      "metadata": {},
      "outputs": [
        {
          "data": {
            "image/png": "[encoded data removed]",
            "text/plain": [
              "<Figure size 640x480 with 1 Axes>"
            ]
          },
          "metadata": {},
          "output_type": "display_data"
        }
      ],
      "source": [
        "#bloting a bar plot\n",
        "df_NoShow.groupby(\"No-show\")[\"has_condition\"].mean().plot(kind=\"bar\",title=\"has condition rate\",ylabel=\"avg\");\n"
      ]
    },
    {
      "cell_type": "markdown",
      "metadata": {},
      "source": [
        "This bar chart shows the average rate of patients with a medical condition based on whether they attended their appointment. Patients who showed up (group 0) have a slightly higher rate of medical conditions compared to those who missed their appointment (group 1). This could mean that patients with health conditions are more likely to keep their appointments because of the importance of their treatments. However, since the difference isn’t very large, it suggests that other factors—like reminders, accessibility, or personal circumstances—might also play a role in attendance."
      ]
    },
    {
      "cell_type": "code",
      "execution_count": 367,
      "metadata": {},
      "outputs": [],
      "source": [
        "def Calculate_Mean(condition):\n",
        "    Mean_List = []\n",
        "    for i in condition:\n",
        "        Mean_List.append(df_NoShow.groupby(i)[\"No-show\"].mean())\n",
        "    return Mean_List\n",
        "        "
      ]
    },
    {
      "cell_type": "code",
      "execution_count": 368,
      "metadata": {},
      "outputs": [
        {
          "data": {
            "text/plain": [
              "[Hipertension\n",
              " 0    0.209037\n",
              " 1    0.173020\n",
              " Name: No-show, dtype: float64,\n",
              " Diabetes\n",
              " 0    0.203628\n",
              " 1    0.180033\n",
              " Name: No-show, dtype: float64,\n",
              " Alcoholism\n",
              " 0    0.201946\n",
              " 1    0.201488\n",
              " Name: No-show, dtype: float64]"
            ]
          },
          "execution_count": 368,
          "metadata": {},
          "output_type": "execute_result"
        }
      ],
      "source": [
        "# calculate the mean value for each condition based on No-show\n",
        "MeanC = Calculate_Mean(['Hipertension','Diabetes','Alcoholism'])\n",
        "MeanC\n"
      ]
    },
    {
      "cell_type": "code",
      "execution_count": 369,
      "metadata": {},
      "outputs": [
        {
          "data": {
            "image/png": "[encoded data removed]",
            "text/plain": [
              "<Figure size 800x600 with 1 Axes>"
            ]
          },
          "metadata": {},
          "output_type": "display_data"
        }
      ],
      "source": [
        "MeanC_df = pd.DataFrame(MeanC).T #used here changr raws into col into columns.\n",
        "MeanC_df.columns = ['Hipertension', 'Diabetes', 'Alcoholism'] \n",
        "\n",
        "MeanC_df.plot(\n",
        "    kind='bar',\n",
        "    figsize=(8, 6),\n",
        "    color=['blue', 'red', 'green'],  \n",
        "    legend=True,\n",
        "    title=\"No-show Rates\"\n",
        ");\n"
      ]
    },
    {
      "cell_type": "markdown",
      "metadata": {},
      "source": [
        "This bar chart shows the no-show rates for patients with hypertension, diabetes, and alcoholism. The x-axis represents whether a patient attended (0) or missed (1) their appointment, while the y-axis shows the percentage of patients with each condition.\n",
        "\n",
        "Patients who attended (0) have slightly higher rates of hypertension (blue) and diabetes (red) than alcoholism (green). However, among those who missed (1), alcoholism is the most common condition. This suggests that while hypertension and diabetes might encourage patients to attend, alcoholism may lead to more missed appointments.\n",
        "\n",
        "These findings show the importance of focused support to help patients especially those with alcoholism keep their appointments.  \n"
      ]
    },
    {
      "cell_type": "markdown",
      "metadata": {},
      "source": [
        "#### Question 3: Are there certain age groups that are more likely to miss appointments? If so, which ones?"
      ]
    },
    {
      "cell_type": "code",
      "execution_count": null,
      "metadata": {},
      "outputs": [
        {
          "data": {
            "text/plain": [
              "No-show  Age_group\n",
              "0        (18-60)      48932\n",
              "         (0-18)       22520\n",
              "         (60+)        16756\n",
              "1        (18-60)      12966\n",
              "         (0-18)        6347\n",
              "         (60+)         3006\n",
              "Name: count, dtype: int64"
            ]
          },
          "execution_count": 370,
          "metadata": {},
          "output_type": "execute_result"
        }
      ],
      "source": [
        "#Creat a new col for each group of age\n",
        "df_NoShow['Age_group'] = df_NoShow['Age'].apply(lambda x: '(0-18)' if x <= 18 else '(18-60)' if x <= 60 else '(60+)')\n",
        "df_NoShow.groupby(\"No-show\")['Age_group'].value_counts()"
      ]
    },
    {
      "cell_type": "code",
      "execution_count": 371,
      "metadata": {},
      "outputs": [
        {
          "data": {
            "text/html": [
              "<div>\n",
              "<style scoped>\n",
              "    .dataframe tbody tr th:only-of-type {\n",
              "        vertical-align: middle;\n",
              "    }\n",
              "\n",
              "    .dataframe tbody tr th {\n",
              "        vertical-align: top;\n",
              "    }\n",
              "\n",
              "    .dataframe thead th {\n",
              "        text-align: right;\n",
              "    }\n",
              "</style>\n",
              "<table border=\"1\" class=\"dataframe\">\n",
              "  <thead>\n",
              "    <tr style=\"text-align: right;\">\n",
              "      <th></th>\n",
              "      <th>PatientId</th>\n",
              "      <th>AppointmentID</th>\n",
              "      <th>Gender</th>\n",
              "      <th>ScheduledDay</th>\n",
              "      <th>AppointmentDay</th>\n",
              "      <th>Age</th>\n",
              "      <th>Neighbourhood</th>\n",
              "      <th>Scholarship</th>\n",
              "      <th>Hipertension</th>\n",
              "      <th>Diabetes</th>\n",
              "      <th>Alcoholism</th>\n",
              "      <th>Handcap</th>\n",
              "      <th>SMS_received</th>\n",
              "      <th>No-show</th>\n",
              "      <th>has_condition</th>\n",
              "    </tr>\n",
              "    <tr>\n",
              "      <th>Age_group</th>\n",
              "      <th></th>\n",
              "      <th></th>\n",
              "      <th></th>\n",
              "      <th></th>\n",
              "      <th></th>\n",
              "      <th></th>\n",
              "      <th></th>\n",
              "      <th></th>\n",
              "      <th></th>\n",
              "      <th></th>\n",
              "      <th></th>\n",
              "      <th></th>\n",
              "      <th></th>\n",
              "      <th></th>\n",
              "      <th></th>\n",
              "    </tr>\n",
              "  </thead>\n",
              "  <tbody>\n",
              "    <tr>\n",
              "      <th>(0-18)</th>\n",
              "      <td>6347</td>\n",
              "      <td>6347</td>\n",
              "      <td>6347</td>\n",
              "      <td>6347</td>\n",
              "      <td>6347</td>\n",
              "      <td>6347</td>\n",
              "      <td>6347</td>\n",
              "      <td>6347</td>\n",
              "      <td>6347</td>\n",
              "      <td>6347</td>\n",
              "      <td>6347</td>\n",
              "      <td>6347</td>\n",
              "      <td>6347</td>\n",
              "      <td>6347</td>\n",
              "      <td>6347</td>\n",
              "    </tr>\n",
              "    <tr>\n",
              "      <th>(18-60)</th>\n",
              "      <td>12966</td>\n",
              "      <td>12966</td>\n",
              "      <td>12966</td>\n",
              "      <td>12966</td>\n",
              "      <td>12966</td>\n",
              "      <td>12966</td>\n",
              "      <td>12966</td>\n",
              "      <td>12966</td>\n",
              "      <td>12966</td>\n",
              "      <td>12966</td>\n",
              "      <td>12966</td>\n",
              "      <td>12966</td>\n",
              "      <td>12966</td>\n",
              "      <td>12966</td>\n",
              "      <td>12966</td>\n",
              "    </tr>\n",
              "    <tr>\n",
              "      <th>(60+)</th>\n",
              "      <td>3006</td>\n",
              "      <td>3006</td>\n",
              "      <td>3006</td>\n",
              "      <td>3006</td>\n",
              "      <td>3006</td>\n",
              "      <td>3006</td>\n",
              "      <td>3006</td>\n",
              "      <td>3006</td>\n",
              "      <td>3006</td>\n",
              "      <td>3006</td>\n",
              "      <td>3006</td>\n",
              "      <td>3006</td>\n",
              "      <td>3006</td>\n",
              "      <td>3006</td>\n",
              "      <td>3006</td>\n",
              "    </tr>\n",
              "  </tbody>\n",
              "</table>\n",
              "</div>"
            ],
            "text/plain": [
              "           PatientId  AppointmentID  Gender  ScheduledDay  AppointmentDay  \\\n",
              "Age_group                                                                   \n",
              "(0-18)          6347           6347    6347          6347            6347   \n",
              "(18-60)        12966          12966   12966         12966           12966   \n",
              "(60+)           3006           3006    3006          3006            3006   \n",
              "\n",
              "             Age  Neighbourhood  Scholarship  Hipertension  Diabetes  \\\n",
              "Age_group                                                              \n",
              "(0-18)      6347           6347         6347          6347      6347   \n",
              "(18-60)    12966          12966        12966         12966     12966   \n",
              "(60+)       3006           3006         3006          3006      3006   \n",
              "\n",
              "           Alcoholism  Handcap  SMS_received  No-show  has_condition  \n",
              "Age_group                                                             \n",
              "(0-18)           6347     6347          6347     6347           6347  \n",
              "(18-60)         12966    12966         12966    12966          12966  \n",
              "(60+)            3006     3006          3006     3006           3006  "
            ]
          },
          "execution_count": 371,
          "metadata": {},
          "output_type": "execute_result"
        }
      ],
      "source": [
        "df_NoShow[df_NoShow['No-show'] == 1].groupby('Age_group').count()"
      ]
    },
    {
      "cell_type": "code",
      "execution_count": 373,
      "metadata": {},
      "outputs": [
        {
          "data": {
            "text/plain": [
              "('(18-60)', 12966)"
            ]
          },
          "execution_count": 373,
          "metadata": {},
          "output_type": "execute_result"
        }
      ],
      "source": [
        "GroupAgewithMaxMiss = df_NoShow[df_NoShow['No-show'] == 1].groupby('Age_group')['PatientId'].count()\n",
        "GroupAgewithMaxMiss.idxmax(),GroupAgewithMaxMiss.max()"
      ]
    },
    {
      "cell_type": "code",
      "execution_count": 385,
      "metadata": {},
      "outputs": [
        {
          "data": {
            "text/plain": [
              "<Axes: >"
            ]
          },
          "execution_count": 385,
          "metadata": {},
          "output_type": "execute_result"
        },
        {
          "data": {
            "image/png": "[encoded data removed]",
            "text/plain": [
              "<Figure size 600x400 with 1 Axes>"
            ]
          },
          "metadata": {},
          "output_type": "display_data"
        }
      ],
      "source": [
        "df_NoShow[df_NoShow['No-show'] == 1][['Age']].plot(kind='box', figsize=(6,4))\n"
      ]
    },
    {
      "cell_type": "markdown",
      "metadata": {},
      "source": [
        "This box plot shows the age distribution of patients who missed their appointment (No-Show = 1):\n",
        "\n",
        "- The median age (green line) is near the center, meaning the age spread is fairly balanced.\n",
        "- Most no-show patients are between 20 and 50 years old.\n",
        "- The whiskers show younger and older patients, with some extreme cases.\n",
        "- An outlier above 100 years suggests that at least one very elderly patient missed their appointment.\n",
        "\n",
        "This helps identify common no-show age groups and highlights any unusual patterns"
      ]
    },
    {
      "cell_type": "code",
      "execution_count": 386,
      "metadata": {},
      "outputs": [
        {
          "data": {
            "text/plain": [
              "37.0"
            ]
          },
          "execution_count": 386,
          "metadata": {},
          "output_type": "execute_result"
        }
      ],
      "source": [
        "df_NoShow[\"Age\"].median()"
      ]
    },
    {
      "cell_type": "markdown",
      "metadata": {},
      "source": [
        "<a id='conclusions'></a>\n",
        "## Conclusions"
      ]
    },
    {
      "cell_type": "markdown",
      "metadata": {},
      "source": [
        "### **Question 1: Does receiving an SMS reduce or increase the no-show rate?**\n",
        "\n",
        "##### Among patients who did not receive an SMS:  \n",
        "- **56.56%** attended their appointments.\n",
        "- **11.34%** missed their appointments.\n",
        "##### Among patients who received an SMS:  \n",
        "- **23.25%** attended their appointments. \n",
        "- **8.85%** missed their appointments.\n",
        "\n",
        "**Conclusion:**  \n",
        "These results indicate that patients who **received an SMS had a higher no-show rate** (**8.85%**) compared to those who **did not receive an SMS** (**11.34%**).This suggests that SMS reminders **may not be effectively reducing no-shows** as expected and could even be Related with an **increase in missed appointments**.  \n",
        "\n",
        "There are a few possible reasons why SMS reminders may not be reducing no-shows. First, some patients might ignore or forget the message, assuming they will remember the appointment on their own. Second, the timing or wording of the SMS might not be effective in encouraging them to confirm or reschedule."
      ]
    },
    {
      "cell_type": "markdown",
      "metadata": {},
      "source": [
        "   ### **Question 2: Are patients with hypertension, diabetes, or alcoholism more or less likely to attend their appointments?**\n"
      ]
    },
    {
      "cell_type": "markdown",
      "metadata": {},
      "source": [
        " when considering whether a patient has **any** of these conditions (**hypertension, diabetes, or alcoholism**):  \n",
        "- Patients **with at least one of these conditions** had a show rate of **23.51%**.  \n",
        "- Patients  **without any of these conditions** had a show rate of **20.08%**.\n",
        "  \n",
        "**Conclusion:**  \n",
        "Patients with at least one of these conditions were more likely to attend their appointments compared to those without any condition, This suggests that individuals with long-term health conditions that usually last for months or years may prioritize their healthcare visits more due to the necessity of ongoing medical care. \n",
        " \n",
        "And from calculating each condition mean it shows that Patients with **hypertension and diabetes were more likely to attend their appointments** compared to those without these conditions. **Alcoholism did not appear to significantly affect appointment attendance**,that shows People with alcoholism may find it hard to attend medical appointments because their condition causes issues like dependence, denial, or other health problems that make it difficult to prioritize care.    \n"
      ]
    },
    {
      "cell_type": "markdown",
      "metadata": {},
      "source": [
        "### **Question 3: Are there certain age groups that are more likely to miss appointments? If so, which ones?**\n",
        "\n",
        "Based on the analysis, the age group **(18-60)** had the **highest number of missed appointments** (12966 no-shows).  \n",
        "\n",
        "**Conclusion:**  \n",
        "People aged 18-60 years seem to miss appointments the most. This might be because of challenges like work or personal responsibilities that stop them from going to medical appointments.More research could look into whether things like work hours, lifestyle, or understanding the importance of medical visits."
      ]
    },
    {
      "cell_type": "markdown",
      "metadata": {},
      "source": [
        "### **Analysis Summary**\n",
        "\n",
        "This analysis found that SMS reminders were not significant in reducing no-shows. Hypertensive and diabetic patients were more likely to attend, while alcoholism did not have a significant impact. Young adults between **18-60 years** of age had the most missed appointments, probably due to work or personal reasons. These findings point towards the need for better reminder systems and ways of increasing attendance at appointments.\n"
      ]
    },
    {
      "cell_type": "markdown",
      "metadata": {},
      "source": [
        "### Limitation\n",
        "\n",
        "A limitation of this analysis is that it is based on the available data and does not account for personal reasons behind missed appointments, such as forgetfulness, transportation issues, or sudden emergencies.\n"
      ]
    },
    {
      "cell_type": "code",
      "execution_count": 1,
      "metadata": {},
      "outputs": [
        {
          "name": "stderr",
          "output_type": "stream",
          "text": [
            "[NbConvertApp] Converting notebook Investigate_a_Dataset.ipynb to html\n",
            "[NbConvertApp] WARNING | Alternative text is missing on 5 image(s).\n",
            "[NbConvertApp] Writing 539751 bytes to Investigate_a_Dataset.html\n"
          ]
        }
      ],
      "source": [
        "!python -m nbconvert --to html Investigate_a_Dataset.ipynb"
      ]
    },
    {
      "cell_type": "code",
      "execution_count": null,
      "metadata": {},
      "outputs": [],
      "source": []
    }
  ],
  "metadata": {
    "kernelspec": {
      "display_name": "base",
      "language": "python",
      "name": "python3"
    },
    "language_info": {
      "codemirror_mode": {
        "name": "ipython",
        "version": 3
      },
      "file_extension": ".py",
      "mimetype": "text/x-python",
      "name": "python",
      "nbconvert_exporter": "python",
      "pygments_lexer": "ipython3",
      "version": "3.12.4"
    }
  },
  "nbformat": 4,
  "nbformat_minor": 4
}
